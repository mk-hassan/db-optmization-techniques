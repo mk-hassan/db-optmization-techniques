{
 "cells": [
  {
   "cell_type": "code",
   "execution_count": 1,
   "id": "3cdee97e-d522-4986-b84d-d694610f1d8a",
   "metadata": {},
   "outputs": [],
   "source": [
    "import glob\n",
    "import pandas as pd\n",
    "import pyarrow.parquet as pq\n",
    "from tqdm import tqdm\n",
    "import psycopg2\n",
    "from psycopg2 import sql"
   ]
  },
  {
   "cell_type": "code",
   "execution_count": 2,
   "id": "d11fa1c1-c4f7-435e-90e8-c9343b79f5d2",
   "metadata": {},
   "outputs": [],
   "source": [
    "files = [\n",
    "    'test-00000-of-00001',\n",
    "    'train-00000-of-00003',\n",
    "    'train-00001-of-00003',\n",
    "    'train-00002-of-00003',\n",
    "    'validation-00000-of-00001',\n",
    "]\n",
    "\n",
    "headers = ['article', 'highlights']\n",
    "\n",
    "batch_size = 10_000\n",
    "output_file = 'combined_output.csv'\n",
    "\n",
    "database = 'News'\n",
    "table_name = 'Article'"
   ]
  },
  {
   "cell_type": "code",
   "execution_count": 3,
   "id": "dbd19770-e10d-42fb-92cb-0433c3d3b641",
   "metadata": {},
   "outputs": [],
   "source": [
    "conn = psycopg2.connect(\n",
    "    dbname=\"News\",  # not the new DB name yet\n",
    "    user=\"admin\",\n",
    "    password=\"1234\",\n",
    "    host=\"localhost\",\n",
    "    port=5432\n",
    ")\n",
    "conn.autocommit = True  # Required for CREATE DATABASE\n",
    "cur = conn.cursor()"
   ]
  },
  {
   "cell_type": "code",
   "execution_count": 4,
   "id": "7208389d-26ad-4216-90ef-9632de0e6ba3",
   "metadata": {},
   "outputs": [],
   "source": [
    "cur.execute(f\"\"\"\n",
    "    CREATE EXTENSION IF NOT EXISTS \"uuid-ossp\";\n",
    "\n",
    "    CREATE TABLE IF NOT EXISTS {table_name} (\n",
    "        id UUID PRIMARY KEY,\n",
    "        article TEXT NOT NULL,\n",
    "        highlights TEXT NOT NULL,\n",
    "        article_vc tsvector\n",
    "    );\n",
    "\"\"\")"
   ]
  },
  {
   "cell_type": "code",
   "execution_count": 5,
   "id": "b2a04be7-8554-4acd-8f3f-19b2a8562629",
   "metadata": {},
   "outputs": [
    {
     "ename": "BadCopyFileFormat",
     "evalue": "wrong number of fields in header line: got 3, expected 2\nCONTEXT:  COPY batch, line 1: \"id,article,highlights\"\n",
     "output_type": "error",
     "traceback": [
      "\u001b[31m---------------------------------------------------------------------------\u001b[39m",
      "\u001b[31mBadCopyFileFormat\u001b[39m                         Traceback (most recent call last)",
      "\u001b[36mCell\u001b[39m\u001b[36m \u001b[39m\u001b[32mIn[5]\u001b[39m\u001b[32m, line 1\u001b[39m\n\u001b[32m----> \u001b[39m\u001b[32m1\u001b[39m \u001b[43mcur\u001b[49m\u001b[43m.\u001b[49m\u001b[43mexecute\u001b[49m\u001b[43m(\u001b[49m\u001b[33;43mf\u001b[39;49m\u001b[33;43m\"\"\"\u001b[39;49m\n\u001b[32m      2\u001b[39m \u001b[33;43mbegin;\u001b[39;49m\n\u001b[32m      3\u001b[39m \n\u001b[32m      4\u001b[39m \u001b[33;43mCREATE TEMP TABLE IF NOT EXISTS Batch (\u001b[39;49m\n\u001b[32m      5\u001b[39m \u001b[33;43m    article TEXT NOT NULL,\u001b[39;49m\n\u001b[32m      6\u001b[39m \u001b[33;43m    highlights TEXT NOT NULL\u001b[39;49m\n\u001b[32m      7\u001b[39m \u001b[33;43m);\u001b[39;49m\n\u001b[32m      8\u001b[39m \n\u001b[32m      9\u001b[39m \u001b[33;43mCOPY Batch (article, highlights)\u001b[39;49m\n\u001b[32m     10\u001b[39m \u001b[33;43mFROM \u001b[39;49m\u001b[33;43m'\u001b[39;49m\u001b[33;43m/sample/combined_output.csv\u001b[39;49m\u001b[33;43m'\u001b[39;49m\n\u001b[32m     11\u001b[39m \u001b[33;43mWITH (\u001b[39;49m\n\u001b[32m     12\u001b[39m \u001b[33;43m    FORMAT \u001b[39;49m\u001b[33;43m'\u001b[39;49m\u001b[33;43mcsv\u001b[39;49m\u001b[33;43m'\u001b[39;49m\u001b[33;43m,\u001b[39;49m\n\u001b[32m     13\u001b[39m \u001b[33;43m    HEADER MATCH,\u001b[39;49m\n\u001b[32m     14\u001b[39m \u001b[33;43m    DELIMITER \u001b[39;49m\u001b[33;43m'\u001b[39;49m\u001b[33;43m,\u001b[39;49m\u001b[33;43m'\u001b[39;49m\n\u001b[32m     15\u001b[39m \u001b[33;43m);\u001b[39;49m\n\u001b[32m     16\u001b[39m \n\u001b[32m     17\u001b[39m \u001b[33;43mSELECT LEFT(article, 100), LEFT(highlights, 100)\u001b[39;49m\n\u001b[32m     18\u001b[39m \u001b[33;43mFROM Batch\u001b[39;49m\n\u001b[32m     19\u001b[39m \u001b[33;43mLIMIT 5;\u001b[39;49m\n\u001b[32m     20\u001b[39m \n\u001b[32m     21\u001b[39m \u001b[33;43mINSERT INTO \u001b[39;49m\u001b[38;5;132;43;01m{\u001b[39;49;00m\u001b[43mtable_name\u001b[49m\u001b[38;5;132;43;01m}\u001b[39;49;00m\n\u001b[32m     22\u001b[39m \u001b[33;43mSELECT uuid_generate_v4(), article, highlights, to_tsvector(article || \u001b[39;49m\u001b[33;43m'\u001b[39;49m\u001b[33;43m \u001b[39;49m\u001b[33;43m'\u001b[39;49m\u001b[33;43m || highlights)\u001b[39;49m\n\u001b[32m     23\u001b[39m \u001b[33;43mFROM Batch;\u001b[39;49m\n\u001b[32m     24\u001b[39m \n\u001b[32m     25\u001b[39m \u001b[33;43mcommit;\u001b[39;49m\n\u001b[32m     26\u001b[39m \u001b[33;43m\"\"\"\u001b[39;49m\u001b[43m)\u001b[49m\n",
      "\u001b[31mBadCopyFileFormat\u001b[39m: wrong number of fields in header line: got 3, expected 2\nCONTEXT:  COPY batch, line 1: \"id,article,highlights\"\n"
     ]
    }
   ],
   "source": [
    "cur.execute(f\"\"\"\n",
    "begin;\n",
    "\n",
    "CREATE TEMP TABLE IF NOT EXISTS Batch (\n",
    "    article TEXT NOT NULL,\n",
    "    highlights TEXT NOT NULL\n",
    ");\n",
    "\n",
    "COPY Batch (article, highlights)\n",
    "FROM '/sample/combined_output.csv'\n",
    "WITH (\n",
    "    FORMAT 'csv',\n",
    "    HEADER MATCH,\n",
    "    DELIMITER ','\n",
    ");\n",
    "\n",
    "SELECT LEFT(article, 100), LEFT(highlights, 100)\n",
    "FROM Batch\n",
    "LIMIT 5;\n",
    "\n",
    "INSERT INTO {table_name}\n",
    "SELECT uuid_generate_v4(), article, highlights, to_tsvector(article || ' ' || highlights)\n",
    "FROM Batch;\n",
    "\n",
    "commit;\n",
    "\"\"\")"
   ]
  },
  {
   "cell_type": "code",
   "execution_count": 6,
   "id": "f99df147-96e8-4a0a-a228-2ab2006bfd62",
   "metadata": {},
   "outputs": [],
   "source": [
    "def load_file(file:str) -> None:\n",
    "    parquet_file = pq.ParquetFile(f'./data/{file}.parquet')\n",
    "    \n",
    "    with open(f'./data/{file}.csv', 'w') as output:\n",
    "        output.write(',' .join(headers) + '\\n')\n",
    "        \n",
    "    for batch in parquet_file.iter_batches(batch_size=batch_size, columns=headers):\n",
    "        df = batch.to_pandas()\n",
    "        df.to_csv(f'./data/{file}.csv', mode='a', index=False, header=False)"
   ]
  },
  {
   "cell_type": "code",
   "execution_count": 7,
   "id": "a60b5a82-d6b5-4c3a-9332-e1950d0bd429",
   "metadata": {},
   "outputs": [
    {
     "name": "stderr",
     "output_type": "stream",
     "text": [
      "  0%|                                                    | 0/5 [00:00<?, ?it/s]\n"
     ]
    },
    {
     "ename": "NameError",
     "evalue": "name 'header' is not defined",
     "output_type": "error",
     "traceback": [
      "\u001b[31m---------------------------------------------------------------------------\u001b[39m",
      "\u001b[31mNameError\u001b[39m                                 Traceback (most recent call last)",
      "\u001b[36mCell\u001b[39m\u001b[36m \u001b[39m\u001b[32mIn[7]\u001b[39m\u001b[32m, line 2\u001b[39m\n\u001b[32m      1\u001b[39m \u001b[38;5;28;01mfor\u001b[39;00m file \u001b[38;5;129;01min\u001b[39;00m tqdm(files):\n\u001b[32m----> \u001b[39m\u001b[32m2\u001b[39m     loaded_rows = \u001b[43mload_file\u001b[49m\u001b[43m(\u001b[49m\u001b[43mfile\u001b[49m\u001b[43m)\u001b[49m\n",
      "\u001b[36mCell\u001b[39m\u001b[36m \u001b[39m\u001b[32mIn[6]\u001b[39m\u001b[32m, line 5\u001b[39m, in \u001b[36mload_file\u001b[39m\u001b[34m(file)\u001b[39m\n\u001b[32m      2\u001b[39m parquet_file = pq.ParquetFile(\u001b[33mf\u001b[39m\u001b[33m'\u001b[39m\u001b[33m./data/\u001b[39m\u001b[38;5;132;01m{\u001b[39;00mfile\u001b[38;5;132;01m}\u001b[39;00m\u001b[33m.parquet\u001b[39m\u001b[33m'\u001b[39m)\n\u001b[32m      4\u001b[39m \u001b[38;5;28;01mwith\u001b[39;00m \u001b[38;5;28mopen\u001b[39m(\u001b[33mf\u001b[39m\u001b[33m'\u001b[39m\u001b[33m./data/\u001b[39m\u001b[38;5;132;01m{\u001b[39;00mfile\u001b[38;5;132;01m}\u001b[39;00m\u001b[33m.csv\u001b[39m\u001b[33m'\u001b[39m, \u001b[33m'\u001b[39m\u001b[33mw\u001b[39m\u001b[33m'\u001b[39m) \u001b[38;5;28;01mas\u001b[39;00m output:\n\u001b[32m----> \u001b[39m\u001b[32m5\u001b[39m     output.write(\u001b[33m'\u001b[39m\u001b[33m,\u001b[39m\u001b[33m'\u001b[39m .join(\u001b[43mheader\u001b[49m) + \u001b[33m'\u001b[39m\u001b[38;5;130;01m\\n\u001b[39;00m\u001b[33m'\u001b[39m)\n\u001b[32m      7\u001b[39m \u001b[38;5;28;01mfor\u001b[39;00m batch \u001b[38;5;129;01min\u001b[39;00m parquet_file.iter_batches(batch_size=batch_size, columns=headers):\n\u001b[32m      8\u001b[39m     df = batch.to_pandas()\n",
      "\u001b[31mNameError\u001b[39m: name 'header' is not defined"
     ]
    }
   ],
   "source": [
    "for file in tqdm(files):\n",
    "    loaded_rows = load_file(file)"
   ]
  },
  {
   "cell_type": "code",
   "execution_count": null,
   "id": "84ecfbf6-ce8e-44e2-ad16-93b263c7d8dd",
   "metadata": {},
   "outputs": [],
   "source": []
  }
 ],
 "metadata": {
  "kernelspec": {
   "display_name": "Python 3 (ipykernel)",
   "language": "python",
   "name": "python3"
  },
  "language_info": {
   "codemirror_mode": {
    "name": "ipython",
    "version": 3
   },
   "file_extension": ".py",
   "mimetype": "text/x-python",
   "name": "python",
   "nbconvert_exporter": "python",
   "pygments_lexer": "ipython3",
   "version": "3.13.0"
  }
 },
 "nbformat": 4,
 "nbformat_minor": 5
}
