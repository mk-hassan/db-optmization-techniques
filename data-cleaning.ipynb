{
 "cells": [
  {
   "cell_type": "markdown",
   "id": "1e32e8e1-f19e-43b3-b3d9-3f88cb9317a5",
   "metadata": {},
   "source": [
    "# General Inverse Indexing"
   ]
  },
  {
   "cell_type": "markdown",
   "id": "17728dd9-a5a1-4d6b-b9b5-9ddf7f401436",
   "metadata": {},
   "source": [
    "## Imports & Configs"
   ]
  },
  {
   "cell_type": "code",
   "execution_count": 1,
   "id": "3cdee97e-d522-4986-b84d-d694610f1d8a",
   "metadata": {},
   "outputs": [],
   "source": [
    "import glob\n",
    "import pandas as pd\n",
    "import pyarrow.parquet as pq\n",
    "from tqdm import tqdm\n",
    "import psycopg2\n",
    "from psycopg2 import sql"
   ]
  },
  {
   "cell_type": "code",
   "execution_count": 2,
   "id": "d11fa1c1-c4f7-435e-90e8-c9343b79f5d2",
   "metadata": {},
   "outputs": [],
   "source": [
    "files = [\n",
    "    'test-00000-of-00001',\n",
    "    'train-00000-of-00003',\n",
    "    'train-00001-of-00003',\n",
    "    'train-00002-of-00003',\n",
    "    'validation-00000-of-00001',\n",
    "]\n",
    "\n",
    "headers = ['article', 'highlights']\n",
    "\n",
    "batch_size = 10_000\n",
    "output_file = 'combined_output.csv'\n",
    "\n",
    "database = 'News'\n",
    "table_name = 'Article'"
   ]
  },
  {
   "cell_type": "markdown",
   "id": "480dca83-81a7-4a39-acc5-aa00cbe2f4c2",
   "metadata": {},
   "source": [
    "## Parquet to CSV conversion"
   ]
  },
  {
   "cell_type": "code",
   "execution_count": 8,
   "id": "f99df147-96e8-4a0a-a228-2ab2006bfd62",
   "metadata": {},
   "outputs": [],
   "source": [
    "def load_file(file:str) -> None:\n",
    "    parquet_file = pq.ParquetFile(f'./data/{file}.parquet')\n",
    "    \n",
    "    with open(f'./data/{file}.csv', 'w') as output:\n",
    "        output.write(',' .join(headers) + '\\n')\n",
    "        \n",
    "    for batch in parquet_file.iter_batches(batch_size=batch_size, columns=headers):\n",
    "        df = batch.to_pandas()\n",
    "        df.to_csv(f'./data/{file}.csv', mode='a', index=False, header=False)"
   ]
  },
  {
   "cell_type": "code",
   "execution_count": 9,
   "id": "a60b5a82-d6b5-4c3a-9332-e1950d0bd429",
   "metadata": {},
   "outputs": [
    {
     "name": "stderr",
     "output_type": "stream",
     "text": [
      "100%|████████████████████████████████████████████| 5/5 [00:23<00:00,  4.69s/it]\n"
     ]
    }
   ],
   "source": [
    "for file in tqdm(files):\n",
    "    loaded_rows = load_file(file)"
   ]
  },
  {
   "cell_type": "markdown",
   "id": "892ce88b-0704-424a-9198-c189f6ea80dc",
   "metadata": {},
   "source": [
    "## Loading data into postgres instance"
   ]
  },
  {
   "cell_type": "code",
   "execution_count": 3,
   "id": "dbd19770-e10d-42fb-92cb-0433c3d3b641",
   "metadata": {},
   "outputs": [],
   "source": [
    "conn = psycopg2.connect(\n",
    "    dbname=\"News\",  # not the new DB name yet\n",
    "    user=\"admin\",\n",
    "    password=\"1234\",\n",
    "    host=\"localhost\",\n",
    "    port=5432\n",
    ")\n",
    "conn.autocommit = True  # Required for CREATE DATABASE\n",
    "cur = conn.cursor()"
   ]
  },
  {
   "cell_type": "code",
   "execution_count": 4,
   "id": "7208389d-26ad-4216-90ef-9632de0e6ba3",
   "metadata": {},
   "outputs": [],
   "source": [
    "cur.execute(f\"\"\"\n",
    "    CREATE EXTENSION IF NOT EXISTS \"uuid-ossp\";\n",
    "\n",
    "    CREATE TABLE IF NOT EXISTS {table_name} (\n",
    "        id UUID PRIMARY KEY,\n",
    "        article TEXT NOT NULL,\n",
    "        highlights TEXT NOT NULL,\n",
    "        article_vc tsvector\n",
    "    );\n",
    "\"\"\")"
   ]
  },
  {
   "cell_type": "code",
   "execution_count": 11,
   "id": "b2a04be7-8554-4acd-8f3f-19b2a8562629",
   "metadata": {},
   "outputs": [],
   "source": [
    "query = \"\"\"\n",
    "begin;\n",
    "\n",
    "CREATE TEMP TABLE IF NOT EXISTS Batch (\n",
    "    article TEXT NOT NULL,\n",
    "    highlights TEXT NOT NULL\n",
    ");\n",
    "\n",
    "COPY Batch (article, highlights)\n",
    "FROM '/sample/{file}.csv'\n",
    "WITH (\n",
    "    FORMAT 'csv',\n",
    "    HEADER,\n",
    "    DELIMITER ','\n",
    ");\n",
    "\n",
    "SELECT LEFT(article, 100), LEFT(highlights, 100)\n",
    "FROM Batch\n",
    "LIMIT 5;\n",
    "\n",
    "INSERT INTO {table_name}\n",
    "SELECT uuid_generate_v4(), article, highlights, to_tsvector(article || ' ' || highlights)\n",
    "FROM Batch;\n",
    "\n",
    "commit;\n",
    "\"\"\""
   ]
  },
  {
   "cell_type": "code",
   "execution_count": 13,
   "id": "990ba0d4-419b-4074-a178-9118aca4f8e0",
   "metadata": {},
   "outputs": [
    {
     "name": "stderr",
     "output_type": "stream",
     "text": [
      "100%|███████████████████████████████████████████| 5/5 [22:18<00:00, 267.63s/it]\n"
     ]
    }
   ],
   "source": [
    "for file in tqdm(files):\n",
    "    cur.execute(query.format(file = file, table_name = table_name))"
   ]
  },
  {
   "cell_type": "code",
   "execution_count": null,
   "id": "84ecfbf6-ce8e-44e2-ad16-93b263c7d8dd",
   "metadata": {},
   "outputs": [],
   "source": []
  }
 ],
 "metadata": {
  "kernelspec": {
   "display_name": "Python 3 (ipykernel)",
   "language": "python",
   "name": "python3"
  },
  "language_info": {
   "codemirror_mode": {
    "name": "ipython",
    "version": 3
   },
   "file_extension": ".py",
   "mimetype": "text/x-python",
   "name": "python",
   "nbconvert_exporter": "python",
   "pygments_lexer": "ipython3",
   "version": "3.13.0"
  }
 },
 "nbformat": 4,
 "nbformat_minor": 5
}
